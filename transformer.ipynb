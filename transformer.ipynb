{
  "nbformat": 4,
  "nbformat_minor": 0,
  "metadata": {
    "kernelspec": {
      "name": "python3",
      "display_name": "Python 3"
    },
    "language_info": {
      "codemirror_mode": {
        "name": "ipython",
        "version": 3
      },
      "file_extension": ".py",
      "mimetype": "text/x-python",
      "name": "python",
      "nbconvert_exporter": "python",
      "pygments_lexer": "ipython3",
      "version": "3.6.7"
    },
    "colab": {
      "name": "transformer.ipynb",
      "provenance": [],
      "collapsed_sections": []
    },
    "accelerator": "GPU"
  },
  "cells": [
    {
      "cell_type": "markdown",
      "metadata": {
        "id": "dnQL8znm6EGb",
        "colab_type": "text"
      },
      "source": [
        "# Transformer in PyTorch\n",
        "\n",
        "This is a pytorch implementation of the Transformer, which is also my note.\n",
        "\n",
        "<img src=\"https://i.imgur.com/thaMgTE.png\"/>"
      ]
    },
    {
      "cell_type": "markdown",
      "metadata": {
        "id": "kKaaXZB06EGf",
        "colab_type": "text"
      },
      "source": [
        "## Import Dependencies"
      ]
    },
    {
      "cell_type": "code",
      "metadata": {
        "id": "pCsdXr496EGh",
        "colab_type": "code",
        "colab": {
          "base_uri": "https://localhost:8080/",
          "height": 258
        },
        "outputId": "bd915613-7533-443c-b1c6-78e7f81a465e"
      },
      "source": [
        "!pip3 install --upgrade torch torchvision torchtext\n",
        "import torch\n",
        "import torch.nn as nn\n",
        "import torch.optim as optim\n",
        "import torch.nn.functional as F\n",
        "from torch.autograd import Variable\n",
        "\n",
        "import spacy\n",
        "\n",
        "import random\n",
        "import math\n",
        "import os\n",
        "import time\n",
        "from tqdm import tqdm\n",
        "\n",
        "import numpy as np\n",
        "import matplotlib.pyplot as plt"
      ],
      "execution_count": 1,
      "outputs": [
        {
          "output_type": "stream",
          "text": [
            "Requirement already up-to-date: torch in /usr/local/lib/python3.6/dist-packages (1.3.1)\n",
            "Requirement already up-to-date: torchvision in /usr/local/lib/python3.6/dist-packages (0.4.2)\n",
            "Requirement already up-to-date: torchtext in /usr/local/lib/python3.6/dist-packages (0.4.0)\n",
            "Requirement already satisfied, skipping upgrade: numpy in /usr/local/lib/python3.6/dist-packages (from torch) (1.17.4)\n",
            "Requirement already satisfied, skipping upgrade: pillow>=4.1.1 in /usr/local/lib/python3.6/dist-packages (from torchvision) (4.3.0)\n",
            "Requirement already satisfied, skipping upgrade: six in /usr/local/lib/python3.6/dist-packages (from torchvision) (1.12.0)\n",
            "Requirement already satisfied, skipping upgrade: tqdm in /usr/local/lib/python3.6/dist-packages (from torchtext) (4.28.1)\n",
            "Requirement already satisfied, skipping upgrade: requests in /usr/local/lib/python3.6/dist-packages (from torchtext) (2.21.0)\n",
            "Requirement already satisfied, skipping upgrade: olefile in /usr/local/lib/python3.6/dist-packages (from pillow>=4.1.1->torchvision) (0.46)\n",
            "Requirement already satisfied, skipping upgrade: urllib3<1.25,>=1.21.1 in /usr/local/lib/python3.6/dist-packages (from requests->torchtext) (1.24.3)\n",
            "Requirement already satisfied, skipping upgrade: certifi>=2017.4.17 in /usr/local/lib/python3.6/dist-packages (from requests->torchtext) (2019.9.11)\n",
            "Requirement already satisfied, skipping upgrade: chardet<3.1.0,>=3.0.2 in /usr/local/lib/python3.6/dist-packages (from requests->torchtext) (3.0.4)\n",
            "Requirement already satisfied, skipping upgrade: idna<2.9,>=2.5 in /usr/local/lib/python3.6/dist-packages (from requests->torchtext) (2.8)\n"
          ],
          "name": "stdout"
        }
      ]
    },
    {
      "cell_type": "code",
      "metadata": {
        "id": "9HSouO9mloLX",
        "colab_type": "code",
        "colab": {
          "base_uri": "https://localhost:8080/",
          "height": 34
        },
        "outputId": "354ee7e4-d31a-461d-841f-1aa61ab404fc"
      },
      "source": [
        "from google.colab import drive\n",
        "drive.mount('/content/drive')"
      ],
      "execution_count": 2,
      "outputs": [
        {
          "output_type": "stream",
          "text": [
            "Drive already mounted at /content/drive; to attempt to forcibly remount, call drive.mount(\"/content/drive\", force_remount=True).\n"
          ],
          "name": "stdout"
        }
      ]
    },
    {
      "cell_type": "code",
      "metadata": {
        "scrolled": true,
        "id": "0HRHiId66EGn",
        "colab_type": "code",
        "colab": {
          "base_uri": "https://localhost:8080/",
          "height": 34
        },
        "outputId": "116f8d0a-52ea-4fba-f4d3-40de41306940"
      },
      "source": [
        "device_num = '0'\n",
        "device = torch.device('cuda:'+device_num if torch.cuda.is_available() else 'cpu')\n",
        "print('device type:', device)"
      ],
      "execution_count": 3,
      "outputs": [
        {
          "output_type": "stream",
          "text": [
            "device type: cuda:0\n"
          ],
          "name": "stdout"
        }
      ]
    },
    {
      "cell_type": "markdown",
      "metadata": {
        "id": "cd0de8lK6EGs",
        "colab_type": "text"
      },
      "source": [
        "## Prepare for Dataset"
      ]
    },
    {
      "cell_type": "code",
      "metadata": {
        "id": "TpaHQsCU6EGt",
        "colab_type": "code",
        "colab": {
          "base_uri": "https://localhost:8080/",
          "height": 275
        },
        "outputId": "a217ef0b-2bbe-4226-e45a-614230a40148"
      },
      "source": [
        "import torchtext\n",
        "from torchtext.datasets import TranslationDataset, Multi30k, IWSLT\n",
        "from torchtext import data\n",
        "\n",
        "!python -m spacy download de\n",
        "!python -m spacy download en\n",
        "spacy_de = spacy.load('de')\n",
        "spacy_en = spacy.load('en')"
      ],
      "execution_count": 4,
      "outputs": [
        {
          "output_type": "stream",
          "text": [
            "Requirement already satisfied: de_core_news_sm==2.1.0 from https://github.com/explosion/spacy-models/releases/download/de_core_news_sm-2.1.0/de_core_news_sm-2.1.0.tar.gz#egg=de_core_news_sm==2.1.0 in /usr/local/lib/python3.6/dist-packages (2.1.0)\n",
            "\u001b[38;5;2m✔ Download and installation successful\u001b[0m\n",
            "You can now load the model via spacy.load('de_core_news_sm')\n",
            "\u001b[38;5;2m✔ Linking successful\u001b[0m\n",
            "/usr/local/lib/python3.6/dist-packages/de_core_news_sm -->\n",
            "/usr/local/lib/python3.6/dist-packages/spacy/data/de\n",
            "You can now load the model via spacy.load('de')\n",
            "Requirement already satisfied: en_core_web_sm==2.1.0 from https://github.com/explosion/spacy-models/releases/download/en_core_web_sm-2.1.0/en_core_web_sm-2.1.0.tar.gz#egg=en_core_web_sm==2.1.0 in /usr/local/lib/python3.6/dist-packages (2.1.0)\n",
            "\u001b[38;5;2m✔ Download and installation successful\u001b[0m\n",
            "You can now load the model via spacy.load('en_core_web_sm')\n",
            "\u001b[38;5;2m✔ Linking successful\u001b[0m\n",
            "/usr/local/lib/python3.6/dist-packages/en_core_web_sm -->\n",
            "/usr/local/lib/python3.6/dist-packages/spacy/data/en\n",
            "You can now load the model via spacy.load('en')\n"
          ],
          "name": "stdout"
        }
      ]
    },
    {
      "cell_type": "markdown",
      "metadata": {
        "id": "rovOKwZk6EGx",
        "colab_type": "text"
      },
      "source": [
        "Define toeknizers for both languages."
      ]
    },
    {
      "cell_type": "code",
      "metadata": {
        "id": "ZaO66tER6EGy",
        "colab_type": "code",
        "colab": {}
      },
      "source": [
        "# Tokenizes German\n",
        "def tokenize_de(text):\n",
        "    return [tok.text for tok in spacy_de.tokenizer(text)]\n",
        "\n",
        "# Tokenizes English\n",
        "def tokenize_en(text):\n",
        "    return [tok.text for tok in spacy_en.tokenizer(text)]"
      ],
      "execution_count": 0,
      "outputs": []
    },
    {
      "cell_type": "markdown",
      "metadata": {
        "id": "TEsEI2XM6EG2",
        "colab_type": "text"
      },
      "source": [
        "Preprocess them as source and target. ```<sos>``` stands for Start Of Sentence and ```<eos>``` for End Of Sentence. Set ```batch_first``` to true so batch_size would be the first dimension."
      ]
    },
    {
      "cell_type": "code",
      "metadata": {
        "id": "aAaJThhN6EG3",
        "colab_type": "code",
        "colab": {}
      },
      "source": [
        "# source (Gernam)\n",
        "GER = data.Field(tokenize=tokenize_de, init_token='<sos>', eos_token='<eos>', lower=True, batch_first=True)\n",
        "\n",
        "# target (English)\n",
        "ENG = data.Field(tokenize=tokenize_en, init_token='<sos>', eos_token='<eos>', lower=True, batch_first=True)"
      ],
      "execution_count": 0,
      "outputs": []
    },
    {
      "cell_type": "markdown",
      "metadata": {
        "id": "xEdo3euP6EG6",
        "colab_type": "text"
      },
      "source": [
        "Split into train and test set, and build the vocab."
      ]
    },
    {
      "cell_type": "code",
      "metadata": {
        "id": "pt7fVOOz6EG7",
        "colab_type": "code",
        "colab": {}
      },
      "source": [
        "MAX_LEN = 100\n",
        "MIN_FREQ = 2\n",
        "\n",
        "train_data, valid_data, test_data = Multi30k.splits(\n",
        "    exts=('.de', '.en'), \n",
        "    fields=(GER, ENG), \n",
        "    filter_pred=lambda x: len(vars(x)['src']) <= MAX_LEN and len(vars(x)['trg']) <= MAX_LEN\n",
        ")\n",
        "\n",
        "GER.build_vocab(train_data, min_freq=MIN_FREQ)\n",
        "ENG.build_vocab(train_data, min_freq=MIN_FREQ)"
      ],
      "execution_count": 0,
      "outputs": []
    },
    {
      "cell_type": "markdown",
      "metadata": {
        "id": "nmcdZG4k6EG_",
        "colab_type": "text"
      },
      "source": [
        "Batchify the data."
      ]
    },
    {
      "cell_type": "code",
      "metadata": {
        "id": "x_2Q4bHJ6EHA",
        "colab_type": "code",
        "colab": {}
      },
      "source": [
        "BATCH_SIZE = 128\n",
        "\n",
        "train_iterator = data.BucketIterator(\n",
        "    dataset=train_data, \n",
        "    batch_size=BATCH_SIZE, \n",
        "    shuffle=True, \n",
        "    sort_key=lambda x: data.interleave_keys(len(x.src), len(x.trg)), \n",
        "    device=device\n",
        ")\n",
        "\n",
        "valid_iterator = data.BucketIterator(\n",
        "    dataset=valid_data, \n",
        "    batch_size=BATCH_SIZE, \n",
        "    device=device\n",
        ")\n",
        "\n",
        "test_iterator = data.BucketIterator(\n",
        "    dataset=test_data, \n",
        "    batch_size=BATCH_SIZE, \n",
        "    device=device\n",
        ")"
      ],
      "execution_count": 0,
      "outputs": []
    },
    {
      "cell_type": "markdown",
      "metadata": {
        "colab_type": "text",
        "id": "Sh7me_vA7VVo"
      },
      "source": [
        "## Transformer Model"
      ]
    },
    {
      "cell_type": "markdown",
      "metadata": {
        "id": "kE92AzNj6EHE",
        "colab_type": "text"
      },
      "source": [
        "### Multi-Head Attention (SubLayer)\n",
        "\n",
        "The following image illustrates a single attention head and Multi-Head attention.\n",
        "\n",
        "<img src=\"https://i.imgur.com/ScaPfNh.png\"/>\n",
        "\n",
        "and the Scaled Dot-Product attention is represented by the formula:\n",
        "\n",
        "<img src=\"https://i.imgur.com/vrnyrgS.png\" width=\"550\"/>"
      ]
    },
    {
      "cell_type": "code",
      "metadata": {
        "id": "0KyACQOT6EHF",
        "colab_type": "code",
        "colab": {}
      },
      "source": [
        "class ScaledDotProductAttention(nn.Module):\n",
        "    def __init__(self, scaled_term, attn_dropout=0.1):\n",
        "        super(ScaledDotProductAttention, self).__init__()\n",
        "        self.scaled_term = scaled_term\n",
        "        self.dropout = nn.Dropout(attn_dropout)\n",
        "        self.softmax = nn.Softmax(dim=-1)\n",
        "\n",
        "    def forward(self, q, k, v, mask=None):\n",
        "        # Score\n",
        "        attn = torch.matmul(q, k) # [B, n_head, T, T]\n",
        "        attn = attn / self.scaled_term\n",
        "\n",
        "        if mask is not None:\n",
        "            attn = attn.masked_fill(mask==0, -1e10)\n",
        "\n",
        "        attn = self.softmax(attn) # [B, n_head, T, T]\n",
        "        attn = self.dropout(attn)\n",
        "        \n",
        "        # Sum\n",
        "        output = torch.matmul(attn, v) # [B, n_head, T, H//n_head]\n",
        "\n",
        "        return output, attn\n",
        "\n",
        "\n",
        "class MultiHeadAttention(nn.Module):\n",
        "    def __init__(self, hidden_size, n_head, device, dropout=0.1):\n",
        "        super(MultiHeadAttention, self).__init__()\n",
        "        self.hidden_size = hidden_size\n",
        "        self.n_head = n_head\n",
        "\n",
        "        self.w_q = nn.Linear(hidden_size, hidden_size)\n",
        "        self.w_k = nn.Linear(hidden_size, hidden_size)\n",
        "        self.w_v = nn.Linear(hidden_size, hidden_size)\n",
        "        self.scaled_dot_attention = ScaledDotProductAttention(torch.sqrt(torch.FloatTensor([hidden_size//n_head])).to(device))\n",
        "        self.dropout = nn.Dropout(dropout)\n",
        "        self.output_layer = nn.Linear(hidden_size, hidden_size)\n",
        "        self.device = device\n",
        "\n",
        "    def forward(self, q, k, v, mask=None):\n",
        "        batch_size = q.shape[0]\n",
        "        '''\n",
        "        query = key = value: [B, T, H]\n",
        "        mask: [B, T, 1]\n",
        "        '''\n",
        "        # Project and split\n",
        "        q = self.w_q(q).view(batch_size, -1, self.n_head, self.hidden_size//self.n_head) # [B, T, H] -> [B, T, n_head, H//n_head]\n",
        "        k = self.w_k(k).view(batch_size, -1, self.n_head, self.hidden_size//self.n_head) # [B, T, H] -> [B, T, n_head, H//n_head]\n",
        "        v = self.w_v(v).view(batch_size, -1, self.n_head, self.hidden_size//self.n_head) # [B, T, H] -> [B, T, n_head, H//n_head]\n",
        "        \n",
        "        q = q.permute(0, 2, 1, 3) # [B, n_head, T, H//n_head]\n",
        "        k = k.permute(0, 2, 3, 1) # [B, n_head, H//n_head, T]\n",
        "        v = v.permute(0, 2, 1, 3) # [B, n_head, T, H//n_head]\n",
        "\n",
        "        output, attn = self.scaled_dot_attention(q, k, v, mask) # [B, n_head, T, T], [B, n_head, T, H//n_head]\n",
        "        output = output.transpose(1, 2).contiguous() # [B, T, n_head, H//n_head]\n",
        "        output = output.view(batch_size, -1, self.n_head * (self.hidden_size//self.n_head)) # [B, T, H]\n",
        "        \n",
        "        output = self.output_layer(output)\n",
        "        output = self.dropout(output)\n",
        "        \n",
        "        # return output, attn\n",
        "        return output"
      ],
      "execution_count": 0,
      "outputs": []
    },
    {
      "cell_type": "markdown",
      "metadata": {
        "id": "JtVszmUc6EHI",
        "colab_type": "text"
      },
      "source": [
        "### Encoder Layer\n",
        "\n",
        "<img src=\"https://i.imgur.com/dZwWje2.png\" />\n",
        "\n",
        "#### Post-LN or Pre-LN\n",
        "\n",
        "You can find different version of Transformer implementation that use either Post-LayerNormalization or Pre-LayerNormalization on github. Here we use the flag ```pre_lnorm``` to decide whether it is Pre-LN or not.\n",
        "\n",
        "According to the official implementation note, whether there's a Pre-LN or not, we must apply LayerNorm to the last output of both Encoder and Decoder, since the output can grow very large, being the sum of a whole stack of unnormalized lauer outputs.\n",
        "\n",
        "<img src=\"https://i.imgur.com/s7TkryI.png\"/>\n",
        "\n",
        "And here's the table for detail:\n",
        "\n",
        "<img src=\"https://i.imgur.com/J1bx9yC.png\" />\n",
        "\n",
        "As my experiment results, Pre-LN converge much faster than Post-LN, and Pre-LN doesn't even need warm-up steps."
      ]
    },
    {
      "cell_type": "code",
      "metadata": {
        "id": "JN0X1rl36EHJ",
        "colab_type": "code",
        "colab": {}
      },
      "source": [
        "class PositionwiseFeedForward(nn.Module):\n",
        "    def __init__(self, hidden_size, filter_size, dropout):\n",
        "        super(PositionwiseFeedForward, self).__init__()\n",
        "        self.pff = nn.Sequential(\n",
        "            nn.Linear(hidden_size, filter_size), \n",
        "            nn.ReLU(inplace=True), \n",
        "            nn.Dropout(dropout), \n",
        "            nn.Linear(filter_size, hidden_size), \n",
        "            nn.Dropout(dropout)\n",
        "        )\n",
        "    \n",
        "    def forward(self, src):\n",
        "        src = self.pff(src)\n",
        "\n",
        "        return src\n",
        "        \n",
        "    \n",
        "class EncoderLayer(nn.Module):\n",
        "    def __init__(self, hidden_size, filter_size, n_head, pre_lnorm, device, dropout):\n",
        "        super(EncoderLayer, self).__init__()\n",
        "        # self-attention part\n",
        "        self.self_attn = MultiHeadAttention(hidden_size, n_head, device)\n",
        "        self.self_attn_norm = nn.LayerNorm(hidden_size)\n",
        "        \n",
        "        # feed forward network part\n",
        "        self.pff = PositionwiseFeedForward(hidden_size, filter_size, dropout)\n",
        "        self.pff_norm = nn.LayerNorm(hidden_size)\n",
        "\n",
        "        self.pre_lnorm = pre_lnorm\n",
        "        \n",
        "    def forward(self, src, src_mask):\n",
        "        if self.pre_lnorm:\n",
        "            pre = self.self_attn_norm(src)\n",
        "            src = src + self.self_attn(pre, pre, pre, src_mask) # residual connection\n",
        "\n",
        "            pre = self.pff_norm(src)\n",
        "            src = src + self.pff(pre) # residual connection\n",
        "        else:\n",
        "            src = self.self_attn_norm(src + self.self_attn(src, src, src, src_mask)) # residual connection + layerNorm\n",
        "            src = self.pff_norm(src + self.pff(src)) # residual connection + layerNorm\n",
        "        \n",
        "        return src"
      ],
      "execution_count": 0,
      "outputs": []
    },
    {
      "cell_type": "markdown",
      "metadata": {
        "id": "5KlIeyUM6EHM",
        "colab_type": "text"
      },
      "source": [
        "### Encoder\n",
        "\n",
        "Encoder consists of multiple layers of EncoderLayer. And also remember the last LayerNorm metioned previously.\n",
        "\n",
        "#### Embeddings: Token Embeddings (wte) + Positional Encoding (wpe)\n",
        "\n",
        "<img src=\"https://i.imgur.com/PWBhjhL.png\" />\n",
        "\n",
        "We may see lots of ways to implement positional encoding. Here are some of the common ways:\n",
        "\n",
        "1. nn.Embedding(...).\n",
        "    - The weight could be previously defined, or simply a fresh new embeddings.\n",
        "    - It could be trainable or un-trainable. The idea of the paper is to use a fixed table.\n",
        "\n",
        "2. A class instance.\n",
        "    - Like [huggingface's transformer](https://github.com/huggingface/transformers/blob/master/transformers/modeling_transfo_xl.py).\n",
        "\n",
        "As what I've tested, they could achieve similar result, with nn.Embedding() slighly better. Using fresh new trainable nn.Embedding() or loading the pretrained weight doesn't make much differnce. I leave all the implementations here as a note."
      ]
    },
    {
      "cell_type": "code",
      "metadata": {
        "id": "nv4yCMITUR5P",
        "colab_type": "code",
        "colab": {}
      },
      "source": [
        "class PositionalEmbedding(nn.Module):\n",
        "    def __init__(self, embed_size):\n",
        "        super(PositionalEmbedding, self).__init__()\n",
        "        self.embed_size = embed_size # hidden_size\n",
        "\n",
        "        inv_timescales = 1 / (10000 ** (torch.arange(0.0, embed_size, 2.0) / embed_size))\n",
        "        self.register_buffer('inv_timescales', inv_timescales)\n",
        "\n",
        "    def forward(self, pos):\n",
        "        scaled_time = torch.ger(pos, self.inv_timescales) # [T, H//2]\n",
        "        pos_embed = torch.cat([torch.sin(scaled_time), torch.cos(scaled_time)], dim=-1) # [T, H]\n",
        "        \n",
        "        return pos_embed[None, :, :]"
      ],
      "execution_count": 0,
      "outputs": []
    },
    {
      "cell_type": "code",
      "metadata": {
        "id": "W4KozZZoXIMs",
        "colab_type": "code",
        "colab": {}
      },
      "source": [
        "class PositionalEncoding(nn.Module):\n",
        "    \"Implement the PE function.\"\n",
        "    def __init__(self, d_model, max_len=5000):\n",
        "        super(PositionalEncoding, self).__init__()\n",
        "        \n",
        "        # Compute the positional encodings once in log space.\n",
        "        pe = torch.zeros(max_len, d_model)\n",
        "        position = torch.arange(0, max_len).unsqueeze(1)\n",
        "        div_term = torch.exp(torch.arange(0, d_model, 2) *\n",
        "                             -(math.log(10000.0) / d_model))\n",
        "        pe[:, 0::2] = torch.sin(position * div_term)\n",
        "        pe[:, 1::2] = torch.cos(position * div_term)\n",
        "        pe = pe.unsqueeze(0)\n",
        "        self.register_buffer('pe', pe)\n",
        "        \n",
        "    def forward(self, x):\n",
        "        x = Variable(self.pe[:, :x.size(1)], requires_grad=False)\n",
        "        return x"
      ],
      "execution_count": 0,
      "outputs": []
    },
    {
      "cell_type": "code",
      "metadata": {
        "id": "wcs1u_HlUR1q",
        "colab_type": "code",
        "colab": {}
      },
      "source": [
        "def positional_encoding_table(n_position, d_hid, padding_idx=None):\n",
        "    ''' Sinusoid position encoding table '''\n",
        "\n",
        "    def cal_angle(position, hid_idx):\n",
        "        return position / np.power(10000, 2 * (hid_idx // 2) / d_hid)\n",
        "\n",
        "    def get_posi_angle_vec(position):\n",
        "        return [cal_angle(position, hid_j) for hid_j in range(d_hid)]\n",
        "\n",
        "    sinusoid_table = np.array([get_posi_angle_vec(pos_i) for pos_i in range(n_position)])\n",
        "\n",
        "    sinusoid_table[:, 0::2] = np.sin(sinusoid_table[:, 0::2])  # dim 2i\n",
        "    sinusoid_table[:, 1::2] = np.cos(sinusoid_table[:, 1::2])  # dim 2i+1\n",
        "\n",
        "    if padding_idx is not None:\n",
        "        # zero vector for padding dimension\n",
        "        sinusoid_table[padding_idx] = 0.\n",
        "\n",
        "    return torch.FloatTensor(sinusoid_table)"
      ],
      "execution_count": 0,
      "outputs": []
    },
    {
      "cell_type": "code",
      "metadata": {
        "id": "LrOWTjFx6EHN",
        "colab_type": "code",
        "colab": {}
      },
      "source": [
        "class Encoder(nn.Module):\n",
        "    def __init__(self, input_size, hidden_size, filter_size, n_head, dropout, n_layers, pre_lnorm, device):\n",
        "        super(Encoder, self).__init__()\n",
        "        self.hidden_size = hidden_size\n",
        "        self.embed_scale = hidden_size ** 0.5\n",
        "        self.wte = nn.Embedding(input_size, hidden_size) # token embeddings\n",
        "        # self.wpe = PositionalEmbedding(hidden_size) # positional embeddings\n",
        "        # self.wpe = nn.Embedding(1000, hidden_size)\n",
        "        # self.wpe = PositionalEncoding(hidden_size)\n",
        "        max_len = 1000\n",
        "        self.wpe = nn.Embedding.from_pretrained(positional_encoding_table(max_len+1, hidden_size, padding_idx=GER.vocab.stoi['<pad>']), freeze=True)\n",
        "        self.embed_dropout = nn.Dropout(dropout)\n",
        "        self.layers = nn.ModuleList([EncoderLayer(hidden_size, filter_size, n_head, pre_lnorm, device, dropout) \n",
        "                                     for _ in range(n_layers)])\n",
        "        self.pre_lnorm = pre_lnorm\n",
        "        self.last_norm = nn.LayerNorm(hidden_size)\n",
        "        self.device = device\n",
        "        \n",
        "    def forward(self, src, src_mask):\n",
        "        # token embedding + positional encoding\n",
        "        # pos = torch.arange(src.shape[1], dtype=torch.float32).to(self.device)\n",
        "        pos = torch.arange(0, src.shape[1]).unsqueeze(0).repeat(src.shape[0], 1).to(self.device)\n",
        "        src = self.wte(src) * self.embed_scale + self.wpe(pos) # [B, T, H]\n",
        "        src = self.embed_dropout(src)\n",
        "        \n",
        "        for layer in self.layers:\n",
        "            src = layer(src, src_mask)\n",
        "        \n",
        "        if self.pre_lnorm:\n",
        "            src = self.last_norm(src)\n",
        "        \n",
        "        return src"
      ],
      "execution_count": 0,
      "outputs": []
    },
    {
      "cell_type": "markdown",
      "metadata": {
        "id": "RTGIdmny6EHR",
        "colab_type": "text"
      },
      "source": [
        "### Decoder Layer\n",
        "\n",
        "<img src=\"https://i.imgur.com/y4ZE8UL.png\" />\n",
        "\n",
        "Target masking is a crutial part in decoder. It masked out the rest of the sequence after current time step, so the model won't peek the answer. Otherwise, we may find low training perplexity but suck at testing."
      ]
    },
    {
      "cell_type": "code",
      "metadata": {
        "id": "f0CAth8p6EHS",
        "colab_type": "code",
        "colab": {}
      },
      "source": [
        "class DecoderLayer(nn.Module):\n",
        "    def __init__(self, hidden_size, filter_size, n_head, pre_lnorm, device, dropout):\n",
        "        super(DecoderLayer, self).__init__()\n",
        "        # self-attention part\n",
        "        self.self_attn = MultiHeadAttention(hidden_size, n_head, device)\n",
        "        self.self_attn_norm = nn.LayerNorm(hidden_size)\n",
        "        \n",
        "        # encoder-to-decoder self-attention part\n",
        "        self.ed_self_attn = MultiHeadAttention(hidden_size, n_head, device)\n",
        "        self.ed_self_attn_norm = nn.LayerNorm(hidden_size)\n",
        "        \n",
        "        # feed forward network part\n",
        "        self.pff = PositionwiseFeedForward(hidden_size, filter_size, dropout)\n",
        "        self.pff_norm = nn.LayerNorm(hidden_size)\n",
        "\n",
        "        self.pre_lnorm = pre_lnorm\n",
        "        \n",
        "    def forward(self, enc_out, enc_out_mask, trg, trg_mask):\n",
        "        if self.pre_lnorm:\n",
        "            ris = self.self_attn_norm(trg)\n",
        "            trg = trg + self.self_attn(ris, ris, ris, trg_mask)\n",
        "\n",
        "            ris = self.ed_self_attn_norm(trg)\n",
        "            trg = trg + self.ed_self_attn(ris, enc_out, enc_out, enc_out_mask)\n",
        "\n",
        "            ris = self.pff_norm(trg)\n",
        "            trg = trg + self.pff(ris)\n",
        "        else:\n",
        "            trg = self.self_attn_norm(trg + self.self_attn(trg, trg, trg, trg_mask))\n",
        "            trg = self.ed_self_attn_norm(trg + self.ed_self_attn(trg, enc_out, enc_out, enc_out_mask))\n",
        "            trg = self.pff_norm(trg + self.pff(trg))\n",
        "            \n",
        "        return trg"
      ],
      "execution_count": 0,
      "outputs": []
    },
    {
      "cell_type": "markdown",
      "metadata": {
        "id": "3YtfdpvQ6EHV",
        "colab_type": "text"
      },
      "source": [
        "### Decoder"
      ]
    },
    {
      "cell_type": "code",
      "metadata": {
        "id": "d3jYmAxX6EHW",
        "colab_type": "code",
        "colab": {}
      },
      "source": [
        "class Decoder(nn.Module):\n",
        "    def __init__(self, input_size, hidden_size, filter_size, n_head, dropout, n_layers, pre_lnorm, device):\n",
        "        super(Decoder, self).__init__()\n",
        "        self.hidden_size = hidden_size\n",
        "        self.dropout = dropout\n",
        "        self.embed_scale = hidden_size ** 0.5\n",
        "        self.wte = nn.Embedding(input_size, hidden_size) # token embeddings\n",
        "        # self.wpe = PositionalEmbedding(hidden_size) # positional embeddings\n",
        "        # self.wpe = nn.Embedding(1000, hidden_size)\n",
        "        # self.wpe = PositionalEncoding(hidden_size)\n",
        "        max_len = 1000\n",
        "        self.wpe = nn.Embedding.from_pretrained(positional_encoding_table(max_len+1, hidden_size, padding_idx=ENG.vocab.stoi['<pad>']), freeze=True)\n",
        "        self.embed_dropout = nn.Dropout(dropout)\n",
        "        self.layers = nn.ModuleList([DecoderLayer(hidden_size, filter_size, n_head, pre_lnorm, device, dropout)\n",
        "                                     for _ in range(n_layers)])\n",
        "        self.pre_lnorm = pre_lnorm\n",
        "        self.last_norm = nn.LayerNorm(hidden_size)\n",
        "        self.device = device\n",
        "        \n",
        "    def forward(self, enc_out, enc_out_mask, trg, trg_mask):\n",
        "        # token embedding + positional encoding\n",
        "        # pos = torch.arange(trg.shape[1], dtype=torch.float32).to(self.device)\n",
        "        pos = torch.arange(0, trg.shape[1]).unsqueeze(0).repeat(trg.shape[0], 1).to(self.device)\n",
        "        trg = self.wte(trg) * self.embed_scale + self.wpe(pos) # [B, T, H]\n",
        "        trg = self.embed_dropout(trg)\n",
        "        \n",
        "        for layer in self.layers:\n",
        "            trg = layer(enc_out, enc_out_mask, trg, trg_mask)\n",
        "        \n",
        "        if self.pre_lnorm:\n",
        "            trg = self.last_norm(trg)\n",
        "        \n",
        "        return trg"
      ],
      "execution_count": 0,
      "outputs": []
    },
    {
      "cell_type": "markdown",
      "metadata": {
        "id": "RN2n3Gyd6EHZ",
        "colab_type": "text"
      },
      "source": [
        "### Transformer\n",
        "\n",
        "Now put all the layers together."
      ]
    },
    {
      "cell_type": "code",
      "metadata": {
        "id": "DCca7a0Q6EHa",
        "colab_type": "code",
        "colab": {}
      },
      "source": [
        "class Transformer(nn.Module):\n",
        "    def __init__(self, enc_input_size, dec_input_size, hidden_size, filter_size, n_head, dropout, n_layers, pre_lnorm, device, maxlen=50):\n",
        "        super(Transformer, self).__init__()\n",
        "        self.encoder = Encoder(enc_input_size, hidden_size, filter_size, n_head, dropout, n_layers, pre_lnorm, device)\n",
        "        self.decoder = Decoder(dec_input_size, hidden_size, filter_size, n_head, dropout, n_layers, pre_lnorm, device)\n",
        "        self.project = nn.Linear(hidden_size, dec_input_size)\n",
        "        self.maxlen = maxlen\n",
        "        self.src_sos_idx = GER.vocab.stoi['<sos>']\n",
        "        self.src_eos_idx = GER.vocab.stoi['<eos>']\n",
        "        \n",
        "    def forward(self, src, src_mask, trg, trg_mask):\n",
        "        enc_out = self.encoder(src, src_mask)\n",
        "        dec_out = self.decoder(enc_out, src_mask, trg, trg_mask)\n",
        "        output = self.project(dec_out)\n",
        "        \n",
        "        return output\n",
        "        \n",
        "    def inference(self, src):\n",
        "        batch_size, src_len = src.shape\n",
        "        trg = src.new_full((batch_size, 1), self.src_sos_idx)\n",
        "        src_mask, trg_mask = make_masks(src, trg)\n",
        "        \n",
        "        enc_out = self.encoder(src, src_mask)\n",
        "        \n",
        "        for t in range(self.maxlen-1):\n",
        "            dec_out = self.decoder(enc_out, src_mask, trg, trg_mask) # [B, T, H]\n",
        "            output = self.project(dec_out) # [B, vocab_size]\n",
        "            output = torch.argmax(output[:, -1], dim=1) # [B]\n",
        "            output = output.unsqueeze(1) # [B, 1]\n",
        "            trg = torch.cat((trg, output), dim=1)\n",
        "            src_mask, trg_mask = make_masks(src, trg)\n",
        "            \n",
        "        return trg\n",
        "        "
      ],
      "execution_count": 0,
      "outputs": []
    },
    {
      "cell_type": "markdown",
      "metadata": {
        "id": "ZARqYuK66EHe",
        "colab_type": "text"
      },
      "source": [
        "## Train the model"
      ]
    },
    {
      "cell_type": "markdown",
      "metadata": {
        "id": "CZGUS5UWgjPm",
        "colab_type": "text"
      },
      "source": [
        "### Masking"
      ]
    },
    {
      "cell_type": "code",
      "metadata": {
        "id": "3XsToQlxgcv6",
        "colab_type": "code",
        "colab": {}
      },
      "source": [
        "# helper function to make mask for source and target.\n",
        "def make_masks(src, trg):\n",
        "    src_mask = (src != GER.vocab.stoi['<pad>']).unsqueeze(1).unsqueeze(2)\n",
        "    trg_pad_mask = (trg != GER.vocab.stoi['<pad>']).unsqueeze(1).unsqueeze(3)\n",
        "\n",
        "    trg_len = trg.shape[1]\n",
        "\n",
        "    trg_sub_mask = torch.tril(torch.ones((trg_len, trg_len), device=device)).bool()\n",
        "\n",
        "    trg_mask = trg_pad_mask & trg_sub_mask\n",
        "\n",
        "    return src_mask, trg_mask"
      ],
      "execution_count": 0,
      "outputs": []
    },
    {
      "cell_type": "code",
      "metadata": {
        "id": "F6JuBXZC6EHf",
        "colab_type": "code",
        "colab": {}
      },
      "source": [
        "enc_input_size = len(GER.vocab) # enc_vocab_size\n",
        "dec_input_size = len(ENG.vocab) # dec_vocab_size\n",
        "hidden_size = 512\n",
        "n_layers = 6\n",
        "n_head = 8\n",
        "filter_size = 2048\n",
        "dropout = 0.1\n",
        "pre_lnorm = False\n",
        "# lr = 1.5e-3\n",
        "lr = 7e-4\n",
        "betas = (0.9, 0.98)\n",
        "eps = 1e-09\n",
        "factor = 0.5\n",
        "warmup = 2000\n",
        "n_epoch = 10\n",
        "clip_value = 1"
      ],
      "execution_count": 0,
      "outputs": []
    },
    {
      "cell_type": "code",
      "metadata": {
        "id": "c3679v3Z6EHi",
        "colab_type": "code",
        "colab": {}
      },
      "source": [
        "model = Transformer(enc_input_size, dec_input_size, hidden_size, filter_size, n_head, dropout, n_layers, pre_lnorm, device)\n",
        "model = model.to(device)"
      ],
      "execution_count": 0,
      "outputs": []
    },
    {
      "cell_type": "markdown",
      "metadata": {
        "id": "qvcQctEp3cq5",
        "colab_type": "text"
      },
      "source": [
        "Initialize model parameters"
      ]
    },
    {
      "cell_type": "code",
      "metadata": {
        "id": "dgH3J1q23a98",
        "colab_type": "code",
        "colab": {}
      },
      "source": [
        "for param in model.parameters():\n",
        "    if param.dim() > 1:\n",
        "        nn.init.xavier_uniform_(param)"
      ],
      "execution_count": 0,
      "outputs": []
    },
    {
      "cell_type": "code",
      "metadata": {
        "id": "u0D4cN67QenB",
        "colab_type": "code",
        "colab": {}
      },
      "source": [
        "criterion = nn.CrossEntropyLoss(ignore_index=GER.vocab.stoi['<pad>'])\n",
        "criterion = criterion.to(device)"
      ],
      "execution_count": 0,
      "outputs": []
    },
    {
      "cell_type": "markdown",
      "metadata": {
        "id": "Sg29yS1Udiwf",
        "colab_type": "text"
      },
      "source": [
        "### Warm up optimizer"
      ]
    },
    {
      "cell_type": "code",
      "metadata": {
        "id": "LijHFhMf6EHl",
        "colab_type": "code",
        "colab": {}
      },
      "source": [
        "class NoamOpt:\n",
        "    def __init__(self, optimizer, hidden_size, factor, warmup, step=0):\n",
        "        self.constant = hidden_size ** -0.5\n",
        "        self.factor = factor\n",
        "        self.curr_step = step\n",
        "        self._rate = 0\n",
        "        self.warmup = warmup\n",
        "        self.optimizer = optimizer\n",
        "\n",
        "    def step(self):\n",
        "        self.curr_step += 1\n",
        "        lr = self.learning_rate()\n",
        "        self._rate = lr\n",
        "        for param in self.optimizer.param_groups:\n",
        "            param['lr'] = lr\n",
        "        \n",
        "        self.optimizer.step()\n",
        "\n",
        "    def learning_rate(self, step=None):\n",
        "        if step is None:\n",
        "            step = self.curr_step\n",
        "        lr = self.factor * (self.constant * min(step ** (-0.5), step * self.warmup ** (-1.5)))\n",
        "        return lr\n",
        "\n",
        "    def zero_grad(self):\n",
        "        self.optimizer.zero_grad()"
      ],
      "execution_count": 0,
      "outputs": []
    },
    {
      "cell_type": "markdown",
      "metadata": {
        "id": "O9cndHc47hjx",
        "colab_type": "text"
      },
      "source": [
        "This is how our learning rate changes over iterations. It reaches the peak point at warm-up steps, and then decays in inverse square root term."
      ]
    },
    {
      "cell_type": "code",
      "metadata": {
        "id": "VecKIuj71D_L",
        "colab_type": "code",
        "colab": {
          "base_uri": "https://localhost:8080/",
          "height": 265
        },
        "outputId": "5cc8c66b-9e46-4380-bcde-ddc82fa3b127"
      },
      "source": [
        "opts = [NoamOpt(None, 512, factor, warmup)]\n",
        "total_step = n_epoch * len(train_iterator)\n",
        "plt.plot(np.arange(1, total_step), [[opt.learning_rate(i) for opt in opts] for i in range(1, total_step)])\n",
        "plt.legend([f\"{hidden_size}:{warmup}\"])\n",
        "None"
      ],
      "execution_count": 24,
      "outputs": [
        {
          "output_type": "display_data",
          "data": {
            "image/png": "[encoded data removed]",
            "text/plain": [
              "<Figure size 432x288 with 1 Axes>"
            ]
          },
          "metadata": {
            "tags": []
          }
        }
      ]
    },
    {
      "cell_type": "code",
      "metadata": {
        "id": "q4C1FZVnQXb4",
        "colab_type": "code",
        "colab": {}
      },
      "source": [
        "if pre_lnorm:\n",
        "    optimizer = optim.Adam(model.parameters(), lr=lr, betas=betas, eps=eps) # no warm up\n",
        "    lr_scheduler = optim.lr_scheduler.ReduceLROnPlateau(optimizer, mode='min', factor=0.1, patience=1, min_lr=1e-9, verbose=True)\n",
        "else:\n",
        "    # optimizer = optim.Adam(model.parameters(), lr=lr, betas=betas, eps=eps) # no warm up\n",
        "    optimizer = NoamOpt(optim.Adam(model.parameters(), lr=0, betas=betas, eps=eps), hidden_size, factor, warmup)"
      ],
      "execution_count": 0,
      "outputs": []
    },
    {
      "cell_type": "markdown",
      "metadata": {
        "id": "bz1zdLn8dhFK",
        "colab_type": "text"
      },
      "source": [
        "### Training loop and validate loop\n",
        "\n",
        "The actual target sequence is trg[:-1] = $[sos, x1, x1, ...]$, \n",
        "\n",
        "and the model output should be the prediction given the actual target token = $[y1, y2, ..., eos]$.\n",
        "\n",
        "When calculating loss, cut off the <sos> token from trg to match the output of model, which is trg[1:] = $[x1, x2, ..., eos]$"
      ]
    },
    {
      "cell_type": "code",
      "metadata": {
        "id": "-UX3MpVu6EHs",
        "colab_type": "code",
        "colab": {}
      },
      "source": [
        "def train(model, iterator, optimizer, criterion):\n",
        "    \n",
        "    model.train()\n",
        "    \n",
        "    epoch_loss = 0\n",
        "    \n",
        "    for batch in tqdm(iterator):\n",
        "        \n",
        "        src = batch.src\n",
        "        trg = batch.trg\n",
        "        \n",
        "        optimizer.zero_grad()\n",
        "        \n",
        "        src_mask, trg_mask = make_masks(src, trg[:, :-1])\n",
        "        output = model(src, src_mask, trg[:, :-1], trg_mask) # [B, T-1, output_size]\n",
        "        \n",
        "        output = output.contiguous().view(-1, output.shape[-1]) # [B*(T-1), output_size]\n",
        "        trg = trg[:, 1:].contiguous().view(-1) # [B*(T-1)]\n",
        "\n",
        "        loss = criterion(output, trg)\n",
        "        \n",
        "        loss.backward()\n",
        "        \n",
        "        torch.nn.utils.clip_grad_norm_(model.parameters(), clip_value)\n",
        "        \n",
        "        optimizer.step()\n",
        "        \n",
        "        epoch_loss += float(loss.item())\n",
        "\n",
        "        if np.isnan(epoch_loss):\n",
        "            assert False, \"gradient explode\"\n",
        "        \n",
        "    return epoch_loss / len(iterator)"
      ],
      "execution_count": 0,
      "outputs": []
    },
    {
      "cell_type": "code",
      "metadata": {
        "id": "LgJCXhyA6EHz",
        "colab_type": "code",
        "colab": {}
      },
      "source": [
        "def evaluate(model, iterator, criterion):\n",
        "    \n",
        "    model.eval()\n",
        "    \n",
        "    epoch_loss = 0\n",
        "    \n",
        "    with torch.no_grad():\n",
        "    \n",
        "        for batch in tqdm(iterator):\n",
        "\n",
        "            src = batch.src\n",
        "            trg = batch.trg\n",
        "\n",
        "            src_mask, trg_mask = make_masks(src, trg[:, :-1])\n",
        "            output = model(src, src_mask, trg[:, :-1], trg_mask) # [B, T-1, output_size]\n",
        "            \n",
        "            output = output.contiguous().view(-1, output.shape[-1]) # [B*(T-1), output_size]\n",
        "            trg = trg[:,1:].contiguous().view(-1) # [B*(T-1)]\n",
        "            \n",
        "            loss = criterion(output, trg)\n",
        "            \n",
        "            epoch_loss += float(loss.item())\n",
        "        \n",
        "    return epoch_loss / len(iterator)"
      ],
      "execution_count": 0,
      "outputs": []
    },
    {
      "cell_type": "code",
      "metadata": {
        "id": "RTtXtmCibkXR",
        "colab_type": "code",
        "colab": {}
      },
      "source": [
        "def translate_sentence(model, sentence, src_field, trg_field):\n",
        "    model.eval()\n",
        "\n",
        "    if isinstance(sentence, str):\n",
        "        tokenizer = spacy.load('de')\n",
        "        tokens = [token.text.lower() for token in tokenizer(sentence)]\n",
        "    else:\n",
        "        tokens = [token.lower() for token in sentence]\n",
        "    \n",
        "    tokens = [src_field.init_token] + tokens + [src_field.eos_token]\n",
        "    src_indexes = [src_field.vocab.stoi[token] for token in tokens]\n",
        "    src_tensor = torch.LongTensor(src_indexes).unsqueeze(0).to(device)\n",
        "    \n",
        "    trg_indexes = model.inference(src_tensor)\n",
        "    trg_indexes = trg_indexes[0]\n",
        "    \n",
        "    trg_tokens = [trg_field.vocab.itos[i] for i in trg_indexes]\n",
        "    trg_tokens = trg_tokens[1:] # get rid of <sos>\n",
        "    if \"<eos>\" in trg_tokens:\n",
        "        trg_tokens = trg_tokens[:trg_tokens.index(\"<eos>\")] # get rid of <eos>\n",
        "\n",
        "    return trg_tokens"
      ],
      "execution_count": 0,
      "outputs": []
    },
    {
      "cell_type": "markdown",
      "metadata": {
        "id": "rf5jB3Jsda5H",
        "colab_type": "text"
      },
      "source": [
        "## BLEU\n",
        "\n",
        "One of the most important benchmark for Machine Translation evaluation. I use ```corpus_bleu``` from nltk package to calculate the bleu score here. For more details, you can refer to [this article](https://machinelearningmastery.com/calculate-bleu-score-for-text-python/)."
      ]
    },
    {
      "cell_type": "code",
      "metadata": {
        "id": "iQ-1pprBJ69p",
        "colab_type": "code",
        "colab": {}
      },
      "source": [
        "from nltk.translate.bleu_score import corpus_bleu\n",
        "\n",
        "def calculate_bleu(model, data):\n",
        "\n",
        "    bleu = 0.0\n",
        "    reference = []\n",
        "    candidate = []\n",
        "    \n",
        "    for datum in tqdm(data):\n",
        "\n",
        "        src = vars(datum)['src']\n",
        "        trg = vars(datum)['trg']\n",
        "\n",
        "        # src_mask, trg_mask = make_masks(src, trg[:, :-1])\n",
        "\n",
        "        pred = translate_sentence(model, src, GER, ENG)\n",
        "\n",
        "        reference.append([trg])\n",
        "        candidate.append(pred)\n",
        "\n",
        "    bleu = corpus_bleu(reference, candidate)\n",
        "    bleu *= 100\n",
        "\n",
        "    return bleu"
      ],
      "execution_count": 0,
      "outputs": []
    },
    {
      "cell_type": "code",
      "metadata": {
        "id": "mVdisDih6EH2",
        "colab_type": "code",
        "colab": {}
      },
      "source": [
        "def calculate_time(start_time, end_time):\n",
        "    second = end_time - start_time\n",
        "    hour = math.floor(second / 3600)\n",
        "    minute = second - hour * 3600\n",
        "    minute = math.floor(minute / 60)\n",
        "    second -= (minute * 60 + hour * 3600)\n",
        "    \n",
        "    return hour, minute, second"
      ],
      "execution_count": 0,
      "outputs": []
    },
    {
      "cell_type": "code",
      "metadata": {
        "id": "0qeoSdnz6EH5",
        "colab_type": "code",
        "colab": {
          "base_uri": "https://localhost:8080/",
          "height": 1000
        },
        "outputId": "6f39a89c-0269-4282-a9a5-9290f01501bf"
      },
      "source": [
        "best_valid_loss = float('inf')\n",
        "epoch_record = []\n",
        "bleu_score_record = []\n",
        "train_loss_record = []\n",
        "valid_loss_record = []\n",
        "\n",
        "start_time = time.time()\n",
        "\n",
        "for epoch in range(n_epoch):\n",
        "    # if pre_lnorm:\n",
        "    #     if epoch+1 == 6:\n",
        "    #         for param in optimizer.param_groups:\n",
        "    #             param['lr'] *= 0.1\n",
        "    \n",
        "    train_loss = train(model, train_iterator, optimizer, criterion)\n",
        "    valid_loss = evaluate(model, valid_iterator, criterion)\n",
        "    bleu_value = calculate_bleu(model, test_data)\n",
        "    # bleu_value = 0\n",
        "    \n",
        "    if pre_lnorm:\n",
        "        lr_scheduler.step(valid_loss)\n",
        "\n",
        "    end_time = time.time()\n",
        "    \n",
        "    hour, minute, second = calculate_time(start_time, end_time)\n",
        "    \n",
        "    if valid_loss < best_valid_loss:\n",
        "        best_valid_loss = valid_loss\n",
        "        torch.save(model.state_dict(), 'transformer.pt')\n",
        "\n",
        "    epoch_record.append(epoch+1)\n",
        "    train_loss_record.append(train_loss)\n",
        "    valid_loss_record.append(valid_loss)\n",
        "    bleu_score_record.append(bleu_value)\n",
        "\n",
        "    print('-----------------------------------------------------------------------------------------------')\n",
        "    print(f'Epoch: {epoch+1:02} | Train Loss: {train_loss:.3f} | Validation Loss: {valid_loss:.3f} | Bleu Score: {bleu_value:.2f} | Since: {hour}h {minute}m {second:.0f}s')\n",
        "    print(f'lr: {optimizer._rate:2f} | #step: {optimizer.curr_step}')\n",
        "    print('-----------------------------------------------------------------------------------------------')\n",
        "    time.sleep(0.5)"
      ],
      "execution_count": 31,
      "outputs": [
        {
          "output_type": "stream",
          "text": [
            "100%|██████████| 227/227 [01:01<00:00,  4.14it/s]\n",
            "100%|██████████| 8/8 [00:00<00:00, 13.46it/s]\n",
            "100%|██████████| 1000/1000 [07:40<00:00,  2.16it/s]\n"
          ],
          "name": "stderr"
        },
        {
          "output_type": "stream",
          "text": [
            "-----------------------------------------------------------------------------------------------\n",
            "Epoch: 01 | Train Loss: 6.469 | Validation Loss: 4.631 | Bleu Score: 2.23 | Since: 0h 8m 43s\n",
            "lr: 0.000056 | #step: 227\n",
            "-----------------------------------------------------------------------------------------------\n"
          ],
          "name": "stdout"
        },
        {
          "output_type": "stream",
          "text": [
            "100%|██████████| 227/227 [01:01<00:00,  3.85it/s]\n",
            "100%|██████████| 8/8 [00:00<00:00, 12.69it/s]\n",
            "100%|██████████| 1000/1000 [07:47<00:00,  2.16it/s]\n"
          ],
          "name": "stderr"
        },
        {
          "output_type": "stream",
          "text": [
            "-----------------------------------------------------------------------------------------------\n",
            "Epoch: 02 | Train Loss: 4.203 | Validation Loss: 3.593 | Bleu Score: 9.18 | Since: 0h 17m 34s\n",
            "lr: 0.000112 | #step: 454\n",
            "-----------------------------------------------------------------------------------------------\n"
          ],
          "name": "stdout"
        },
        {
          "output_type": "stream",
          "text": [
            "100%|██████████| 227/227 [01:01<00:00,  3.78it/s]\n",
            "100%|██████████| 8/8 [00:00<00:00, 12.42it/s]\n",
            "100%|██████████| 1000/1000 [07:42<00:00,  2.22it/s]\n"
          ],
          "name": "stderr"
        },
        {
          "output_type": "stream",
          "text": [
            "-----------------------------------------------------------------------------------------------\n",
            "Epoch: 03 | Train Loss: 3.458 | Validation Loss: 3.088 | Bleu Score: 12.56 | Since: 0h 26m 20s\n",
            "lr: 0.000168 | #step: 681\n",
            "-----------------------------------------------------------------------------------------------\n"
          ],
          "name": "stdout"
        },
        {
          "output_type": "stream",
          "text": [
            "100%|██████████| 227/227 [01:01<00:00,  4.11it/s]\n",
            "100%|██████████| 8/8 [00:00<00:00, 11.99it/s]\n",
            "100%|██████████| 1000/1000 [07:32<00:00,  2.23it/s]\n"
          ],
          "name": "stderr"
        },
        {
          "output_type": "stream",
          "text": [
            "-----------------------------------------------------------------------------------------------\n",
            "Epoch: 04 | Train Loss: 3.010 | Validation Loss: 2.780 | Bleu Score: 15.23 | Since: 0h 34m 56s\n",
            "lr: 0.000224 | #step: 908\n",
            "-----------------------------------------------------------------------------------------------\n"
          ],
          "name": "stdout"
        },
        {
          "output_type": "stream",
          "text": [
            "100%|██████████| 227/227 [01:01<00:00,  3.67it/s]\n",
            "100%|██████████| 8/8 [00:00<00:00, 12.93it/s]\n",
            "100%|██████████| 1000/1000 [07:32<00:00,  2.21it/s]\n"
          ],
          "name": "stderr"
        },
        {
          "output_type": "stream",
          "text": [
            "-----------------------------------------------------------------------------------------------\n",
            "Epoch: 05 | Train Loss: 2.693 | Validation Loss: 2.591 | Bleu Score: 16.48 | Since: 0h 43m 32s\n",
            "lr: 0.000280 | #step: 1135\n",
            "-----------------------------------------------------------------------------------------------\n"
          ],
          "name": "stdout"
        },
        {
          "output_type": "stream",
          "text": [
            "100%|██████████| 227/227 [01:01<00:00,  3.80it/s]\n",
            "100%|██████████| 8/8 [00:00<00:00, 12.98it/s]\n",
            "100%|██████████| 1000/1000 [07:32<00:00,  2.23it/s]\n"
          ],
          "name": "stderr"
        },
        {
          "output_type": "stream",
          "text": [
            "-----------------------------------------------------------------------------------------------\n",
            "Epoch: 06 | Train Loss: 2.450 | Validation Loss: 2.442 | Bleu Score: 17.64 | Since: 0h 52m 8s\n",
            "lr: 0.000336 | #step: 1362\n",
            "-----------------------------------------------------------------------------------------------\n"
          ],
          "name": "stdout"
        },
        {
          "output_type": "stream",
          "text": [
            "100%|██████████| 227/227 [01:01<00:00,  3.39it/s]\n",
            "100%|██████████| 8/8 [00:00<00:00, 12.18it/s]\n",
            "100%|██████████| 1000/1000 [07:32<00:00,  2.21it/s]\n"
          ],
          "name": "stderr"
        },
        {
          "output_type": "stream",
          "text": [
            "-----------------------------------------------------------------------------------------------\n",
            "Epoch: 07 | Train Loss: 2.242 | Validation Loss: 2.343 | Bleu Score: 19.34 | Since: 1h 0m 43s\n",
            "lr: 0.000393 | #step: 1589\n",
            "-----------------------------------------------------------------------------------------------\n"
          ],
          "name": "stdout"
        },
        {
          "output_type": "stream",
          "text": [
            "100%|██████████| 227/227 [01:01<00:00,  3.61it/s]\n",
            "100%|██████████| 8/8 [00:00<00:00, 12.29it/s]\n",
            "100%|██████████| 1000/1000 [07:31<00:00,  2.24it/s]\n"
          ],
          "name": "stderr"
        },
        {
          "output_type": "stream",
          "text": [
            "-----------------------------------------------------------------------------------------------\n",
            "Epoch: 08 | Train Loss: 2.069 | Validation Loss: 2.259 | Bleu Score: 19.11 | Since: 1h 9m 18s\n",
            "lr: 0.000449 | #step: 1816\n",
            "-----------------------------------------------------------------------------------------------\n"
          ],
          "name": "stdout"
        },
        {
          "output_type": "stream",
          "text": [
            "100%|██████████| 227/227 [01:01<00:00,  4.02it/s]\n",
            "100%|██████████| 8/8 [00:00<00:00, 11.90it/s]\n",
            "100%|██████████| 1000/1000 [07:31<00:00,  2.21it/s]\n"
          ],
          "name": "stderr"
        },
        {
          "output_type": "stream",
          "text": [
            "-----------------------------------------------------------------------------------------------\n",
            "Epoch: 09 | Train Loss: 1.925 | Validation Loss: 2.224 | Bleu Score: 20.30 | Since: 1h 17m 53s\n",
            "lr: 0.000489 | #step: 2043\n",
            "-----------------------------------------------------------------------------------------------\n"
          ],
          "name": "stdout"
        },
        {
          "output_type": "stream",
          "text": [
            "100%|██████████| 227/227 [01:00<00:00,  3.83it/s]\n",
            "100%|██████████| 8/8 [00:00<00:00, 12.82it/s]\n",
            "100%|██████████| 1000/1000 [07:33<00:00,  2.19it/s]\n"
          ],
          "name": "stderr"
        },
        {
          "output_type": "stream",
          "text": [
            "-----------------------------------------------------------------------------------------------\n",
            "Epoch: 10 | Train Loss: 1.767 | Validation Loss: 2.152 | Bleu Score: 20.63 | Since: 1h 26m 28s\n",
            "lr: 0.000464 | #step: 2270\n",
            "-----------------------------------------------------------------------------------------------\n"
          ],
          "name": "stdout"
        }
      ]
    },
    {
      "cell_type": "code",
      "metadata": {
        "id": "nxa3anl9Ieoh",
        "colab_type": "code",
        "colab": {}
      },
      "source": [
        "file_path = '/content/drive/My Drive/transformer_checkpoint/'\n",
        "if pre_lnorm:\n",
        "    torch.save(epoch_record, file_path+'epoch_record_pre.pkl')\n",
        "    torch.save(bleu_score_record, file_path+'bleu_score_record_pre.pkl')\n",
        "    torch.save(train_loss_record, file_path+'train_loss_record_pre.pkl')\n",
        "    torch.save(valid_loss_record, file_path+'valid_loss_record_pre.pkl')\n",
        "else:\n",
        "    torch.save(epoch_record, file_path+'epoch_record_post.pkl')\n",
        "    torch.save(bleu_score_record, file_path+'bleu_score_record_post.pkl')\n",
        "    torch.save(train_loss_record, file_path+'train_loss_record_post.pkl')\n",
        "    torch.save(valid_loss_record, file_path+'valid_loss_record_post.pkl')"
      ],
      "execution_count": 0,
      "outputs": []
    },
    {
      "cell_type": "code",
      "metadata": {
        "id": "OPkMxv3aW34K",
        "colab_type": "code",
        "colab": {}
      },
      "source": [
        "file_path = '/content/drive/My Drive/transformer_checkpoint/'\n",
        "\n",
        "epoch_record_pre = torch.load(file_path+'epoch_record_pre.pkl')\n",
        "bleu_score_record_pre = torch.load(file_path+'bleu_score_record_pre.pkl')\n",
        "train_loss_record_pre = torch.load(file_path+'train_loss_record_pre.pkl')\n",
        "valid_loss_record_pre = torch.load(file_path+'valid_loss_record_pre.pkl')\n",
        "\n",
        "epoch_record_post = torch.load(file_path+'epoch_record_post.pkl')\n",
        "bleu_score_record_post = torch.load(file_path+'bleu_score_record_post.pkl')\n",
        "train_loss_record_post = torch.load(file_path+'train_loss_record_post.pkl')\n",
        "valid_loss_record_post = torch.load(file_path+'valid_loss_record_post.pkl')"
      ],
      "execution_count": 0,
      "outputs": []
    },
    {
      "cell_type": "code",
      "metadata": {
        "id": "D0mrH_k4FCKz",
        "colab_type": "code",
        "colab": {
          "base_uri": "https://localhost:8080/",
          "height": 284
        },
        "outputId": "d4e7c480-1774-44e4-cb13-a48217368044"
      },
      "source": [
        "plt.plot(epoch_record, valid_loss_record_post, 'x--', label='Post-LN (Adam w/ warm-up)')\n",
        "plt.plot(epoch_record, valid_loss_record_pre, '.-', color=\"red\", label='Pre-LN (Adam w/o warm-up)')\n",
        "# plt.title('')\n",
        "plt.xlabel('Epochs', fontsize=16)\n",
        "plt.ylabel('Validation Loss', fontsize=16)\n",
        "plt.legend()\n",
        "plt.grid()\n",
        "plt.show()"
      ],
      "execution_count": 37,
      "outputs": [
        {
          "output_type": "display_data",
          "data": {
            "image/png": "[encoded data removed]",
            "text/plain": [
              "<Figure size 432x288 with 1 Axes>"
            ]
          },
          "metadata": {
            "tags": []
          }
        }
      ]
    },
    {
      "cell_type": "code",
      "metadata": {
        "id": "-xNZnc4JGJY8",
        "colab_type": "code",
        "colab": {
          "base_uri": "https://localhost:8080/",
          "height": 284
        },
        "outputId": "831ab21f-c28c-47be-fd32-0f3be3523352"
      },
      "source": [
        "plt.plot(epoch_record, bleu_score_record_post, 'x--', label='Post-LN (Adam w/ warm-up)')\n",
        "plt.plot(epoch_record, bleu_score_record_pre, '.-', color=\"red\", label='Pre-LN (Adam w/o warm-up)')\n",
        "# plt.title('')\n",
        "plt.xlabel('Epochs', fontsize=16)\n",
        "plt.ylabel('BLEU', fontsize=16)\n",
        "plt.legend()\n",
        "plt.grid()\n",
        "plt.show()"
      ],
      "execution_count": 38,
      "outputs": [
        {
          "output_type": "display_data",
          "data": {
            "image/png": "[encoded data removed]",
            "text/plain": [
              "<Figure size 432x288 with 1 Axes>"
            ]
          },
          "metadata": {
            "tags": []
          }
        }
      ]
    },
    {
      "cell_type": "code",
      "metadata": {
        "id": "IyJexWpK6EH8",
        "colab_type": "code",
        "colab": {
          "base_uri": "https://localhost:8080/",
          "height": 68
        },
        "outputId": "b64d0463-666c-4e78-c305-0ee8296fcb0b"
      },
      "source": [
        "source_sentence = [\"<sos>\"] + train_data[5].src + [\"<eos>\"]\n",
        "target_sentence = [\"<sos>\"] + train_data[5].trg + [\"<eos>\"]\n",
        "pred_token = translate_sentence(model, source_sentence, GER, ENG)\n",
        "print('source:', ' '.join(source_sentence))\n",
        "print('target:', ' '.join(target_sentence))\n",
        "print('inference:', ' '.join(pred_token))"
      ],
      "execution_count": 39,
      "outputs": [
        {
          "output_type": "stream",
          "text": [
            "source: <sos> ein mann in grün hält eine gitarre , während der andere mann sein hemd ansieht . <eos>\n",
            "target: <sos> a man in green holds a guitar while the other man observes his shirt . <eos>\n",
            "inference: a man in green is holding a green guitar while the other man is playing his guitar .\n"
          ],
          "name": "stdout"
        }
      ]
    },
    {
      "cell_type": "code",
      "metadata": {
        "id": "y_29xud9AbFo",
        "colab_type": "code",
        "colab": {}
      },
      "source": [
        ""
      ],
      "execution_count": 0,
      "outputs": []
    }
  ]
}